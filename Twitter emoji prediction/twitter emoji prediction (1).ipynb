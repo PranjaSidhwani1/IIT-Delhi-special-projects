{
 "cells": [
  {
   "cell_type": "code",
   "execution_count": 1,
   "id": "f267521c",
   "metadata": {},
   "outputs": [],
   "source": [
    "import numpy as np\n",
    "import pandas as pd\n",
    "import emojis\n",
    "from keras.models import Sequential\n",
    "from keras.layers import Dense, LSTM, SimpleRNN, Embedding\n",
    "from keras.preprocessing.text import Tokenizer\n",
    "from tensorflow.keras.preprocessing.sequence import pad_sequences\n",
    "from tensorflow.keras.utils import to_categorical"
   ]
  },
  {
   "cell_type": "code",
   "execution_count": 38,
   "id": "1e11d54c",
   "metadata": {},
   "outputs": [
    {
     "name": "stdout",
     "output_type": "stream",
     "text": [
      "😜\n"
     ]
    }
   ],
   "source": [
    "data=pd.read_csv(\"train.csv\")\n",
    "ok=pd.read_csv(\"Test.csv\")\n",
    "test=[]\n",
    "for j in range (0,len(ok[\"TEXT\"])):\n",
    "    test.append(ok[\"TEXT\"][j])\n",
    "mapping=pd.read_csv(\"mapping.csv\")\n",
    "mapping=mapping.to_dict()[\"emoticons\"]\n",
    "data=data.drop('Unnamed: 0', axis=1)"
   ]
  },
  {
   "cell_type": "code",
   "execution_count": null,
   "id": "73239e46",
   "metadata": {},
   "outputs": [],
   "source": []
  },
  {
   "cell_type": "code",
   "execution_count": 3,
   "id": "acaf6715",
   "metadata": {},
   "outputs": [],
   "source": [
    "X=data[\"TEXT\"].values\n",
    "Y=data[\"Label\"].values"
   ]
  },
  {
   "cell_type": "code",
   "execution_count": 4,
   "id": "876cbff4",
   "metadata": {},
   "outputs": [],
   "source": [
    "file=open(\"glove.twitter.27B.100d.txt\",\"r\",encoding=\"utf8\")\n",
    "content=file.readlines()\n",
    "file.close()"
   ]
  },
  {
   "cell_type": "code",
   "execution_count": 5,
   "id": "0bce26e4",
   "metadata": {},
   "outputs": [],
   "source": [
    "embeddings={}\n",
    "for line in content:\n",
    "    line=line.split()\n",
    "    embeddings[line[0]]=np.array(line[1:],dtype=float)\n"
   ]
  },
  {
   "cell_type": "code",
   "execution_count": null,
   "id": "75bb4330",
   "metadata": {},
   "outputs": [],
   "source": []
  },
  {
   "cell_type": "code",
   "execution_count": 6,
   "id": "f682b1fe",
   "metadata": {},
   "outputs": [],
   "source": [
    "def get_maxlen(data):\n",
    "    maxlen = 0\n",
    "    for sent in data:\n",
    "        maxlen = max(maxlen, len(sent))\n",
    "    return maxlen"
   ]
  },
  {
   "cell_type": "code",
   "execution_count": 7,
   "id": "d72f9f59",
   "metadata": {},
   "outputs": [],
   "source": [
    "def padding(data):\n",
    "    L=[]\n",
    "    for j in range (0,len(data)):\n",
    "        L.append(len(data[j]))\n",
    "    n=max(L)\n",
    "    for j in range (0,len(data)):\n",
    "        for k in range (0,n-L[j]):\n",
    "            data[j].append(0)\n",
    "    return data,n"
   ]
  },
  {
   "cell_type": "code",
   "execution_count": 8,
   "id": "c6094967",
   "metadata": {},
   "outputs": [],
   "source": [
    "tokenizer = Tokenizer()\n",
    "tokenizer.fit_on_texts(X)\n",
    "word2index = tokenizer.word_index\n",
    "Xtokens = tokenizer.texts_to_sequences(X)\n",
    "maxlen=get_maxlen(Xtokens)\n",
    "Xtrain = pad_sequences(Xtokens, maxlen = maxlen,  padding = 'post', truncating = 'post')"
   ]
  },
  {
   "cell_type": "code",
   "execution_count": null,
   "id": "53f25e8b",
   "metadata": {},
   "outputs": [],
   "source": []
  },
  {
   "cell_type": "code",
   "execution_count": 9,
   "id": "6c4953e3",
   "metadata": {},
   "outputs": [],
   "source": [
    "Ytrain=to_categorical(Y)"
   ]
  },
  {
   "cell_type": "code",
   "execution_count": 10,
   "id": "728f7811",
   "metadata": {},
   "outputs": [],
   "source": [
    "# def intialize_emb_matrix(file):\n",
    "#     embedding_matrix = []\n",
    "#     for line in file:\n",
    "#         values = line.split()\n",
    "#         word = values[0]\n",
    "#         embedding = np.array(values[1:], dtype='float64')\n",
    "#         embedding_matrix[word] = embedding\n",
    "\n",
    "#     return embedding_matrix \n",
    "# embedding_matrix=intialize_emb_matrix(content)"
   ]
  },
  {
   "cell_type": "code",
   "execution_count": null,
   "id": "e4114f15",
   "metadata": {},
   "outputs": [],
   "source": []
  },
  {
   "cell_type": "code",
   "execution_count": 11,
   "id": "d297a921",
   "metadata": {},
   "outputs": [],
   "source": [
    "embed_size = 100\n",
    "embedding_matrix = np.zeros((len(word2index)+1, embed_size))\n",
    "for word, i in word2index.items():\n",
    "    if word in embeddings:\n",
    "        embed_vector = embeddings[word]\n",
    "        embedding_matrix[i] = embed_vector"
   ]
  },
  {
   "cell_type": "code",
   "execution_count": 20,
   "id": "dc9b1a6e",
   "metadata": {},
   "outputs": [],
   "source": [
    "# model = Sequential([\n",
    "#     Embedding(input_dim = len(word2index) + 1,\n",
    "#               output_dim = embed_size,\n",
    "#               input_length = maxlen,\n",
    "#               weights = [embedding_matrix],\n",
    "#               trainable = False\n",
    "#              ),\n",
    "    \n",
    "#     LSTM(units = 256, return_sequences = True),\n",
    "#     LSTM(units = 128),\n",
    "#     Dense(5, activation = 'softmax')\n",
    "# ])\n",
    "\n",
    "\n",
    "model=Sequential([\n",
    "    Embedding(input_dim = len(word2index)+1,\n",
    "              output_dim = 100,\n",
    "              input_length = maxlen,\n",
    "              weights = [embedding_matrix],\n",
    "              trainable = False\n",
    "             ),\n",
    "])\n",
    "\n",
    "model.add(LSTM(units = 256, return_sequences=True)\n",
    "model.add(LSTM(units=128))\n",
    "model.add(Dense(units=128, activation='relu'))\n",
    "model.add(Dense(units=64, activation='relu'))\n",
    "model.add(Dense(units=32, activation='relu'))\n",
    "model.add(Dense(units=20, activation='relu'))\n",
    "model.add(Dense(units=20, activation='softmax'))\n",
    "model.compile(optimizer = 'adam', loss = 'categorical_crossentropy', metrics = ['accuracy'])"
   ]
  },
  {
   "cell_type": "code",
   "execution_count": 21,
   "id": "d1fc24ca",
   "metadata": {
    "scrolled": true
   },
   "outputs": [],
   "source": [
    "# res = model.fit(Xtrain, Ytrain, validation_split=0.2, batch_size=32, epochs=10, verbose=2)"
   ]
  },
  {
   "cell_type": "code",
   "execution_count": 51,
   "id": "1bc59523",
   "metadata": {},
   "outputs": [
    {
     "name": "stdout",
     "output_type": "stream",
     "text": [
      "812/812 [==============================] - 34s 39ms/step\n"
     ]
    }
   ],
   "source": [
    "test_seq = tokenizer.texts_to_sequences(test)\n",
    "Xtest = pad_sequences(test_seq, maxlen = maxlen, padding = 'post', truncating = 'post')\n",
    "y_pred = model.predict(Xtest)\n",
    "y_pred = np.argmax(y_pred, axis = 1)"
   ]
  },
  {
   "cell_type": "code",
   "execution_count": 54,
   "id": "348dd49b",
   "metadata": {},
   "outputs": [],
   "source": [
    "ans=[]\n",
    "for i in range(len(test)):\n",
    "    ans.append(mapping[y_pred[i]])\n",
    "df=pd.DataFrame({\"Text\":test,\"Survived\":ans})\n",
    "df.to_csv(\"submission_twitter_emoji_predictor.csv\",index=False)"
   ]
  },
  {
   "cell_type": "code",
   "execution_count": null,
   "id": "44cbf976",
   "metadata": {},
   "outputs": [],
   "source": []
  }
 ],
 "metadata": {
  "kernelspec": {
   "display_name": "Python 3 (ipykernel)",
   "language": "python",
   "name": "python3"
  },
  "language_info": {
   "codemirror_mode": {
    "name": "ipython",
    "version": 3
   },
   "file_extension": ".py",
   "mimetype": "text/x-python",
   "name": "python",
   "nbconvert_exporter": "python",
   "pygments_lexer": "ipython3",
   "version": "3.10.9"
  }
 },
 "nbformat": 4,
 "nbformat_minor": 5
}
