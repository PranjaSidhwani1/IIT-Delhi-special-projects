{
 "cells": [
  {
   "cell_type": "code",
   "execution_count": 1,
   "id": "77e44cf3",
   "metadata": {},
   "outputs": [],
   "source": [
    "import smtplib\n",
    "from email.mime.multipart import MIMEMultipart\n",
    "from email.mime.text import MIMEText"
   ]
  },
  {
   "cell_type": "code",
   "execution_count": 2,
   "id": "f20435ac",
   "metadata": {},
   "outputs": [],
   "source": []
  },
  {
   "cell_type": "code",
   "execution_count": 5,
   "id": "cdb3d201",
   "metadata": {},
   "outputs": [
    {
     "name": "stdout",
     "output_type": "stream",
     "text": [
      "Email sent to drishita1@gmail.com\n"
     ]
    }
   ],
   "source": [
    "def send_email(to_address, subject, body):\n",
    "    # Email account credentials\n",
    "    from_address = 'pranjaysidhwani@gmail.com'\n",
    "    password = 'zdyw mhbo paja oxrd'  # or app password if 2FA is enabled\n",
    "\n",
    "    # Create message\n",
    "    msg = MIMEMultipart()\n",
    "    msg['From'] = \"pranjaysidhwani@gmail.com\"\n",
    "    msg['To'] = \"pranjaysidhwaniiitd@gmail.com\"\n",
    "    msg['Subject'] = subject\n",
    "    msg.attach(MIMEText(body, 'plain'))\n",
    "\n",
    "#     try:\n",
    "    # Setup the SMTP server\n",
    "    server = smtplib.SMTP('smtp.gmail.com', 587)\n",
    "    server.starttls()  # Secure the connection\n",
    "    server.login(from_address, password)\n",
    "\n",
    "    # Send the email\n",
    "    server.send_message(msg)\n",
    "    server.quit()\n",
    "\n",
    "    print(f'Email sent to {to_address}')\n",
    "#     except Exception as e:\n",
    "#         print(f'Failed to send email: {e}')\n",
    "\n",
    "# Example usage\n",
    "send_email('drishita1@gmail.com', 'Test Subject', 'This is the body of the email.')\n"
   ]
  },
  {
   "cell_type": "code",
   "execution_count": 2,
   "id": "750a58c7",
   "metadata": {},
   "outputs": [],
   "source": []
  }
 ],
 "metadata": {
  "kernelspec": {
   "display_name": "Python 3 (ipykernel)",
   "language": "python",
   "name": "python3"
  },
  "language_info": {
   "codemirror_mode": {
    "name": "ipython",
    "version": 3
   },
   "file_extension": ".py",
   "mimetype": "text/x-python",
   "name": "python",
   "nbconvert_exporter": "python",
   "pygments_lexer": "ipython3",
   "version": "3.11.5"
  }
 },
 "nbformat": 4,
 "nbformat_minor": 5
}
